{
  "cells": [
    {
      "cell_type": "markdown",
      "id": "07a7403a-ec21-49ba-87ad-4596fe570f18",
      "metadata": {
        "tags": [],
        "id": "07a7403a-ec21-49ba-87ad-4596fe570f18"
      },
      "source": [
        "# Python Lanchester's laws simulation\n",
        "\n",
        "A Jupyter notebook demonstrates how to predict the outcome of a battle using Lanchester's equations. The repository includes a Python module (`lanchester.py`) that calculates the differential equation over time. To make a prediction, you need to define the initial parameters for the red and blue units appropriate for the selected model, and then run the selected model. The module supports three different models: the `square law`, the `linear law`, and an extended `modernized model`.\n",
        "\n",
        "> lanchester.square() - square law (N-square law)\n",
        "\n",
        "> lanchester.linear() - linear law\n",
        "\n",
        "> lanchester.modernized() - modernized model\n",
        "\n",
        "You can find out more about the Lanchester equations here: https://en.wikipedia.org/wiki/Lanchester%27s_laws\n",
        "\n",
        "***\n",
        "\n",
        "(c) 2022 Marcin \"szczyglis\" Szczygliński\n",
        "\n",
        "GitHub page: https://github.com/szczyglis-dev/python-lanchester\n",
        "\n",
        "Email: szczyglis@protonmail.com\n",
        "\n",
        "Version: 1.0.1\n",
        "\n",
        "This file is licensed under the MIT License.\n",
        "\n",
        "License text available at https://opensource.org/licenses/MIT"
      ]
    },
    {
      "cell_type": "code",
      "source": [
        "!pip install numpy\n",
        "!pip install matplotlib"
      ],
      "metadata": {
        "id": "0Sy56LwWUJWY"
      },
      "id": "0Sy56LwWUJWY",
      "execution_count": null,
      "outputs": []
    },
    {
      "cell_type": "code",
      "execution_count": null,
      "id": "d5d9f650-44a3-4d1e-8f84-cef1b009eebf",
      "metadata": {
        "id": "d5d9f650-44a3-4d1e-8f84-cef1b009eebf"
      },
      "outputs": [],
      "source": [
        "import numpy as np\n",
        "import matplotlib.pyplot as plt\n",
        "import lanchester"
      ]
    },
    {
      "cell_type": "markdown",
      "id": "10185f29-db56-433c-828e-67eaa5434c2a",
      "metadata": {
        "id": "10185f29-db56-433c-828e-67eaa5434c2a"
      },
      "source": [
        "1) Define start parameters. Note that each of the 3 models uses different startup parameters:"
      ]
    },
    {
      "cell_type": "code",
      "execution_count": null,
      "id": "d788b517-1890-4aa1-a4e7-33a607597654",
      "metadata": {
        "id": "d788b517-1890-4aa1-a4e7-33a607597654"
      },
      "outputs": [],
      "source": [
        "# base parameters:\n",
        "R0 = 8000 # number of RED units\n",
        "B0 = 10000 # number of BLUE units\n",
        "T = 100 # total number of steps in the simulation\n",
        "dt = 1 # time interval\n",
        "\n",
        "\n",
        "# parameters for \"linear\" and \"modernized\" models:\n",
        "r_l = 0.00001 # combat efficiency of RED units\n",
        "b_l = 0.00002 # combat efficiency of BLUE units\n",
        "\n",
        "\n",
        "# parameters for \"square\" and \"modernized\"  models:\n",
        "r_s = 0.2 # average number of RED units that damage each other per unit of time\n",
        "b_s = 0.1 # average number of BLUE units that damage each other per unit of time\n",
        "\n",
        "\n",
        "# parameters for \"modernized\" model only:\n",
        "r_f = 0.6 # RED units camouflage ability factor\n",
        "b_f = 0.2 # BLUE units camouflage ability factor\n",
        "\n",
        "r_a = 0.6 # RED units ability to recognize\n",
        "b_a = 0.2 # BLUE units ability to recognize\n",
        "\n",
        "r_i = 4 # RED units information warfare ability coefficient\n",
        "b_i = 4 # BLUE units information warfare ability coefficient"
      ]
    },
    {
      "cell_type": "markdown",
      "id": "b83da5f8-17a6-44f2-b86a-88b07cd0007a",
      "metadata": {
        "id": "b83da5f8-17a6-44f2-b86a-88b07cd0007a"
      },
      "source": [
        "2) Select the chosen model by uncommenting the line. You can use three different models: \"linear,\" \"square,\" or \"modernized\":"
      ]
    },
    {
      "cell_type": "code",
      "execution_count": null,
      "id": "563075d2-1eb6-4493-ab97-5ba10ef7a571",
      "metadata": {
        "id": "563075d2-1eb6-4493-ab97-5ba10ef7a571"
      },
      "outputs": [],
      "source": [
        "#R, B = lanchester.square(R0, B0, r_s, b_s, T, dt)\n",
        "#R, B = lanchester.linear(R0, B0, r_l, b_l, T, dt)\n",
        "R, B = lanchester.modernized(R0, B0, r_l, b_l, r_s, b_s, r_f, r_a, b_f, b_a, r_i, b_i, T, dt)"
      ]
    },
    {
      "cell_type": "markdown",
      "id": "b77008b6-b276-47df-9a80-2460180dcd1e",
      "metadata": {
        "id": "b77008b6-b276-47df-9a80-2460180dcd1e"
      },
      "source": [
        "3) Display the predicted result of the battle:"
      ]
    },
    {
      "cell_type": "code",
      "execution_count": null,
      "id": "55b2185c-179c-4b77-8244-367f094294e1",
      "metadata": {
        "id": "55b2185c-179c-4b77-8244-367f094294e1"
      },
      "outputs": [],
      "source": [
        "# display result\n",
        "print(\"Predicted result of the battle：\\n\")\n",
        "if R[-1] > B[-1]:\n",
        "    print(\"Winner: RED\")\n",
        "else:\n",
        "    print(\"Winner: BLUE\")\n",
        "\n",
        "# display remaining units info\n",
        "print(\"Remaining RED units [\", R[-1], \"]\")\n",
        "print(\"Remaining BLUE units [\", B[-1], \"]\")\n",
        "\n",
        "# display result on plot\n",
        "t = np.arange(0, len(R) * dt, dt)\n",
        "plt.figure(1)\n",
        "plt.plot(t, R, '--r', label='RED units')\n",
        "plt.plot(t, B, 'b', label='BLUE units')\n",
        "plt.xlabel(\"Time (round)\")\n",
        "plt.ylabel(\"Number of units\")\n",
        "plt.title(\"Lanchester's model simulation\")\n",
        "plt.legend()\n",
        "plt.show()"
      ]
    }
  ],
  "metadata": {
    "kernelspec": {
      "display_name": "Python 3 (ipykernel)",
      "language": "python",
      "name": "python3"
    },
    "language_info": {
      "codemirror_mode": {
        "name": "ipython",
        "version": 3
      },
      "file_extension": ".py",
      "mimetype": "text/x-python",
      "name": "python",
      "nbconvert_exporter": "python",
      "pygments_lexer": "ipython3",
      "version": "3.8.10"
    },
    "colab": {
      "provenance": [],
      "toc_visible": true
    }
  },
  "nbformat": 4,
  "nbformat_minor": 5
}